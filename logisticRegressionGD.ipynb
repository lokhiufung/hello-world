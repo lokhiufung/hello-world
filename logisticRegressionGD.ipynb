{
 "cells": [
  {
   "cell_type": "code",
   "execution_count": 119,
   "metadata": {
    "collapsed": true
   },
   "outputs": [],
   "source": [
    "import numpy as np \n",
    "import pandas as pd \n",
    "\n",
    "def sigmoid(z):\n",
    "    a = 1/(1+np.exp(-z))\n",
    "    return a\n",
    "\n",
    "def forward_prop(X, W1, b1):\n",
    "    Z1 = np.dot(W1, X) + b1\n",
    "    A1 = sigmoid(Z1)\n",
    "    \n",
    "    return A1\n",
    "\n",
    "def logistic(X, Y, n_input, n_output, learning_rate= 0.0075, itera =30000, print_cost =False):\n",
    "    \n",
    "    W1 = np.random.randn(n_output, n_input)*0.001\n",
    "    b1 = np.zeros((n_output, 1))\n",
    "    \n",
    "    m = Y.shape[1]\n",
    "    costs = []\n",
    "    for i in range(itera):\n",
    "        Z1 = np.dot(W1, X) + b1\n",
    "        A1 = sigmoid(Z1)\n",
    "        \n",
    "        cost = -np.sum(np.multiply(Y, np.log(A1))+np.multiply(1-Y, np.log(1-A1)))/m\n",
    "        dA1 = - np.divide(Y, A1) + np.divide(1 - Y, 1 - A1)\n",
    "        \n",
    "        dZ1 = A1-Y\n",
    "        dW1 = np.dot(dZ1, X.T)/m\n",
    "        db1 = np.sum(dZ1, axis=1, keepdims= True)/m\n",
    "        \n",
    "        W1 = W1 - learning_rate*dW1\n",
    "        b1 = b1 - learning_rate*db1\n",
    "        \n",
    "        if print_cost and i % 100 == 0:\n",
    "            print(\"Cost after iteration {}: {}\".format(i, np.squeeze(cost)))\n",
    "        if  i % 100 == 0:\n",
    "            costs.append(np.squeeze(cost))\n",
    "        \n",
    "    plt.plot(np.squeeze(costs))\n",
    "    plt.ylabel('cost')\n",
    "    plt.xlabel('iterations (per tens)')\n",
    "    plt.title(\"Learning rate =\" + str(learning_rate))\n",
    "    plt.show()\n",
    "    return W1, b1, costs "
   ]
  },
  {
   "cell_type": "code",
   "execution_count": 150,
   "metadata": {
    "collapsed": true
   },
   "outputs": [],
   "source": [
    "np.random.seed(1)\n",
    "train_x = np.random.randn(1, 1000)\n",
    "train_y = np.zeros((1, 1000))\n",
    "train_y[train_x>=0.1] = 1\n",
    "train_y[train_x<0.1] = 0\n",
    "layers_dims = [1,1]"
   ]
  },
  {
   "cell_type": "code",
   "execution_count": 125,
   "metadata": {},
   "outputs": [
    {
     "data": {
      "image/png": "[encoded data removed]",
      "text/plain": [
       "<matplotlib.figure.Figure at 0x10d789b00>"
      ]
     },
     "metadata": {},
     "output_type": "display_data"
    }
   ],
   "source": [
    "import matplotlib.pyplot as plt\n",
    "\n",
    "W1, b1, costs = logistic(train_x, train_y,n_input=1, n_output=1, learning_rate=1e-3, itera = 300000, print_cost =False)"
   ]
  },
  {
   "cell_type": "code",
   "execution_count": 126,
   "metadata": {},
   "outputs": [
    {
     "name": "stdout",
     "output_type": "stream",
     "text": [
      "[[ 8.07623062]] [[-0.86665621]]\n"
     ]
    }
   ],
   "source": [
    "print (W1, b1)"
   ]
  },
  {
   "cell_type": "code",
   "execution_count": 158,
   "metadata": {},
   "outputs": [
    {
     "data": {
      "text/plain": [
       "0.998"
      ]
     },
     "execution_count": 158,
     "metadata": {},
     "output_type": "execute_result"
    }
   ],
   "source": [
    "from sklearn.metrics import accuracy_score\n",
    "y_pred = forward_prop(train_x, W1, b1)\n",
    "y_pred[y_pred>=0.5]=1\n",
    "y_pred[y_pred<0.5]=0\n",
    "\n",
    "#print (train_y, y_pred)\n",
    "\n",
    "accuracy_score(np.squeeze(train_y), np.squeeze(y_pred))"
   ]
  }
 ],
 "metadata": {
  "kernelspec": {
   "display_name": "Python 3",
   "language": "python",
   "name": "python3"
  },
  "language_info": {
   "codemirror_mode": {
    "name": "ipython",
    "version": 3
   },
   "file_extension": ".py",
   "mimetype": "text/x-python",
   "name": "python",
   "nbconvert_exporter": "python",
   "pygments_lexer": "ipython3",
   "version": "3.6.1"
  }
 },
 "nbformat": 4,
 "nbformat_minor": 2
}
