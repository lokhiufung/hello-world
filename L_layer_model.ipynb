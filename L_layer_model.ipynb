{
 "cells": [
  {
   "cell_type": "code",
   "execution_count": 162,
   "metadata": {
    "collapsed": true
   },
   "outputs": [],
   "source": [
    "import numpy as np \n",
    "import pandas as pd\n"
   ]
  },
  {
   "cell_type": "code",
   "execution_count": 601,
   "metadata": {
    "collapsed": true
   },
   "outputs": [],
   "source": [
    "def initialize_parameters(layers_dims):  \n",
    "    L = len(layers_dims)  \n",
    "    parameters = {}\n",
    "    for i in range(L-1):\n",
    "        parameters['W'+str(i+1)] = np.random.randn(layers_dims[i+1], layers_dims[i])\n",
    "        parameters['b'+str(i+1)] = np.zeros((layers_dims[i+1], 1))       \n",
    "            \n",
    "    return parameters"
   ]
  },
  {
   "cell_type": "code",
   "execution_count": 602,
   "metadata": {
    "collapsed": true
   },
   "outputs": [],
   "source": [
    "def sigmoid(Z):\n",
    "    \n",
    "    A = 1/(1+np.exp(-Z))\n",
    "    \n",
    "    return A"
   ]
  },
  {
   "cell_type": "code",
   "execution_count": 603,
   "metadata": {
    "collapsed": true
   },
   "outputs": [],
   "source": [
    "def relu(Z):\n",
    "    \n",
    "    A = Z*(Z>0)\n",
    "    \n",
    "    return A"
   ]
  },
  {
   "cell_type": "code",
   "execution_count": 745,
   "metadata": {},
   "outputs": [],
   "source": [
    "def forward_prop(x, parameters):\n",
    "    caches = []\n",
    "    A_prev = x \n",
    "    L = len(parameters)//2 +1   \n",
    "    for i in range(1,L):\n",
    "        Z = np.dot(parameters['W'+str(i)], A_prev) + parameters['b'+str(i)]\n",
    "        A = sigmoid(Z)  #relu \n",
    "        caches.append((A_prev, Z))\n",
    "        A_prev = A  \n",
    "            \n",
    "    return A, Z, caches\n",
    "                "
   ]
  },
  {
   "cell_type": "code",
   "execution_count": 605,
   "metadata": {
    "collapsed": true
   },
   "outputs": [],
   "source": [
    "def compute_cost(AL, y):\n",
    "    \n",
    "    m = y.shape[1]\n",
    "    cost = -np.sum(np.multiply(y, np.log(AL)) + np.multiply(1-y,np.log(1-AL)))/m\n",
    "    \n",
    "    return cost"
   ]
  },
  {
   "cell_type": "code",
   "execution_count": 737,
   "metadata": {
    "collapsed": true
   },
   "outputs": [],
   "source": [
    "def backward_prop(dAL, caches, parameters):\n",
    "    \n",
    "    L = len(caches)+1\n",
    "    dA = dAL\n",
    "    grad = {}\n",
    "    for i in reversed(range(1, L)):\n",
    "        A, Z = caches[i-1]\n",
    "        dZ = dA * (sigmoid(Z)*(1-sigmoid(Z)))\n",
    "        grad['dW'+str(i)] = np.dot(dZ, A.T)/m\n",
    "        grad['db'+str(i)] = np.sum(dZ, axis=1, keepdims= True)/m\n",
    "        dA = np.dot(parameters['W'+str(i)].T, dZ)\n",
    "                \n",
    "    return grad"
   ]
  },
  {
   "cell_type": "code",
   "execution_count": 613,
   "metadata": {},
   "outputs": [],
   "source": [
    "def gradient_checking(A, activation):\n",
    "    \n",
    "    numeric_grad = {}\n",
    "    if activation == 'sigmoid':\n",
    "        J = None\n",
    "    return None"
   ]
  },
  {
   "cell_type": "code",
   "execution_count": 706,
   "metadata": {
    "collapsed": true
   },
   "outputs": [],
   "source": [
    "def update_parameters(grad, parameters):\n",
    "    \n",
    "    L = len(parameters)//2\n",
    "    \n",
    "    for i in range(L):\n",
    "        parameters['W'+str(i+1)] = parameters['W'+str(i+1)] - learning_rate*grad['dW'+str(i+1)] \n",
    "        parameters['b'+str(i+1)] = parameters['b'+str(i+1)] - learning_rate*grad['db'+str(i+1)]\n",
    "                \n",
    "    return parameters"
   ]
  },
  {
   "cell_type": "code",
   "execution_count": 762,
   "metadata": {
    "collapsed": true
   },
   "outputs": [],
   "source": [
    "def predict(x, parameters):\n",
    "    L = len(parameters)//2 +1   \n",
    "    A_prev = x\n",
    "    for i in range(1,L):\n",
    "        Z = np.dot(parameters['W'+str(i)], A_prev) + parameters['b'+str(i)]\n",
    "        A = sigmoid(Z)  #relu \n",
    "        A_prev = A  \n",
    "        \n",
    "    return A"
   ]
  },
  {
   "cell_type": "code",
   "execution_count": 751,
   "metadata": {
    "collapsed": true
   },
   "outputs": [],
   "source": [
    "def L_layer_model(x, y, layers_dims, learning_rate=0.0075, itera=3000, print_cost=False):\n",
    "    \n",
    "    parameters = initialize_parameters(layers_dims)\n",
    "    m = y.shape[1]\n",
    "    costs = []\n",
    "   \n",
    "\n",
    "    for i in range(itera):\n",
    "        \n",
    "        #forward_prop with all sigmoid\n",
    "        AL, ZL, caches = forward_prop(x, parameters)\n",
    "        \n",
    "        #compute cost\n",
    "        cost = compute_cost(AL, y)\n",
    "        \n",
    "        #initialize cost\n",
    "        dAL = -np.divide(y, AL)+np.divide(1-y, 1-AL)\n",
    "        \n",
    "        #backward_prop\n",
    "        grad = backward_prop(dAL, caches, parameters)\n",
    "    \n",
    "        #update parameters\n",
    "        parameters = update_parameters(grad, parameters)\n",
    "        \n",
    "        if print_cost and i % 100 == 0:\n",
    "            print(\"Cost after iteration {}: {}\".format(i, np.squeeze(cost)))\n",
    "        \n",
    "        if i%100 == 0:\n",
    "            costs.append(cost)\n",
    "       \n",
    "    plt.plot(costs)\n",
    "    plt.show()\n",
    "        \n",
    "    return parameters    "
   ]
  },
  {
   "cell_type": "code",
   "execution_count": 752,
   "metadata": {},
   "outputs": [],
   "source": [
    "train_x = np.random.randn(1, 20).reshape(1,20)\n",
    "train_y = np.zeros((1, 20))\n",
    "train_y[train_x>=0.1] = 1\n",
    "train_y[train_x<0.1] = 0\n",
    "train_y = train_y.reshape((1,20))\n",
    "m = train_y.shape[1]\n",
    "layers_dims = [1,3, 4,3,5,1]"
   ]
  },
  {
   "cell_type": "code",
   "execution_count": 753,
   "metadata": {},
   "outputs": [
    {
     "data": {
      "image/png": "[encoded data removed]",
      "text/plain": [
       "<matplotlib.figure.Figure at 0x115ff0400>"
      ]
     },
     "metadata": {},
     "output_type": "display_data"
    }
   ],
   "source": [
    "parameters = L_layer_model(train_x, train_y, layers_dims, learning_rate=0.0075, itera=30000, print_cost=False)\n"
   ]
  },
  {
   "cell_type": "code",
   "execution_count": 558,
   "metadata": {},
   "outputs": [
    {
     "data": {
      "text/plain": [
       "1.0"
      ]
     },
     "execution_count": 558,
     "metadata": {},
     "output_type": "execute_result"
    }
   ],
   "source": [
    "y_prob = A3\n",
    "y_pred = np.zeros((1, y_prob.shape[1]))\n",
    "y_pred[y_prob>=0.5] = 1\n",
    "y_pred[y_prob<0.5] = 0\n",
    "y_pred = np.squeeze(y_pred)\n",
    "\n",
    "from sklearn.metrics import accuracy_score\n",
    "accuracy_score(np.squeeze(train_y), y_pred)"
   ]
  },
  {
   "cell_type": "code",
   "execution_count": 754,
   "metadata": {},
   "outputs": [
    {
     "name": "stdout",
     "output_type": "stream",
     "text": [
      "(2, 100)\n",
      "(1, 100)\n"
     ]
    },
    {
     "data": {
      "image/png": "[encoded data removed]",
      "text/plain": [
       "<matplotlib.figure.Figure at 0x1163b3c50>"
      ]
     },
     "metadata": {},
     "output_type": "display_data"
    }
   ],
   "source": [
    "from sklearn.datasets import make_moons\n",
    "X, y = make_moons(n_samples=100, random_state=123)\n",
    "\n",
    "plt.scatter(X[y==1, 0], X[y==1, 1], color='b')\n",
    "plt.scatter(X[y==0, 0], X[y==0, 1], color='r')\n",
    "\n",
    "X = X.T \n",
    "y = y.reshape((1, len(y)))\n",
    "print (X.shape)\n",
    "print (y.shape)"
   ]
  },
  {
   "cell_type": "code",
   "execution_count": 755,
   "metadata": {},
   "outputs": [
    {
     "data": {
      "image/png": "[encoded data removed]",
      "text/plain": [
       "<matplotlib.figure.Figure at 0x1162f5668>"
      ]
     },
     "metadata": {},
     "output_type": "display_data"
    }
   ],
   "source": [
    "parameters = L_layer_model(X, y, layers_dims=[2, 3, 4, 5, 1], learning_rate=0.0075, itera=30000, print_cost=False)"
   ]
  },
  {
   "cell_type": "code",
   "execution_count": 763,
   "metadata": {},
   "outputs": [
    {
     "data": {
      "text/plain": [
       "1.0"
      ]
     },
     "execution_count": 763,
     "metadata": {},
     "output_type": "execute_result"
    }
   ],
   "source": [
    "y_prob = predict(X, parameters)\n",
    "\n",
    "\n",
    "y_pred = np.zeros((1, y_prob.shape[1]))\n",
    "y_pred[y_prob>=0.5] = 1\n",
    "y_pred[y_prob<0.5] = 0\n",
    "y_pred = np.squeeze(y_pred)\n",
    "\n",
    "from sklearn.metrics import accuracy_score\n",
    "accuracy_score(np.squeeze(y), y_pred)"
   ]
  }
 ],
 "metadata": {
  "kernelspec": {
   "display_name": "Python 3",
   "language": "python",
   "name": "python3"
  },
  "language_info": {
   "codemirror_mode": {
    "name": "ipython",
    "version": 3
   },
   "file_extension": ".py",
   "mimetype": "text/x-python",
   "name": "python",
   "nbconvert_exporter": "python",
   "pygments_lexer": "ipython3",
   "version": "3.6.1"
  }
 },
 "nbformat": 4,
 "nbformat_minor": 2
}
